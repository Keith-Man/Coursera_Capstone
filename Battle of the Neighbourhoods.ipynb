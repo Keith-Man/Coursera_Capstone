{
    "cells": [
        {
            "cell_type": "markdown",
            "metadata": {
                "collapsed": true
            },
            "source": "## Battle of the Neighbourhoods"
        },
        {
            "cell_type": "markdown",
            "metadata": {},
            "source": "# Effect of Median House Prices on Venue distribution in Adelaide"
        },
        {
            "cell_type": "markdown",
            "metadata": {},
            "source": "## Table of Contents\n1. Introduction\n2. Data\n3. Methodology\n4. Results\n5. Discussion\n6. Conclusion"
        },
        {
            "cell_type": "markdown",
            "metadata": {},
            "source": "## Introduction\n### Background\nAdelaide is the state capital of the Australian state of South Australia. \nIt has a decent suburban sprawl that ranges from old suburbs to new developments. \nLike with most cities, there is a wide variety of small businesses spread across the greater metropolitan area of Adealide.\nFor some people, starting up a small business and earning a stable income is a life goal after com\n\n### Problem\nFor people looking to start a business, it is important for them to know what businesses stand a better chance of doing well in different suburbs. Starting a business in a suburb that has no market for it can result in significant loss of invested time and resources. Because of this, it is useful to have some method to predict what businesses stand a higher chance of doing well.\nThere are many metrics that can be used to judge what business opportunities are more likely to succeed, but one of them is to look into the median house prices of different suburbs.\nMedian house prices can give some indication of the spending potential of people living in the area, which in turn affects the range of venues that are located in the area.\n\n### Interest\nPeople looking to start up a new small business would be interested in this information as it would provide them with a general overview of what venues are popular in their area, the likely customer base, and if they want to start a business that isn't so popular in their area, what areas are more likely to support that business and the approximate investment required to do so."
        },
        {
            "cell_type": "markdown",
            "metadata": {},
            "source": "## Data\n### Data Sources\nThe main sources of data for this investigation will be a csv document of metropolitan Adelaide median house prices from Q4 of 2019 provided by the South Australian Government's data database (https://data.sa.gov.au/data/dataset/metro-median-house-sales) and a list of Adelaide metropolitan suburbs and their local government area will be scraped from a geojson file provided from the same data database (https://data.sa.gov.au/data/dataset/suburb-boundaries) with Wikipedia's page on Adelaide suburbs used to provide additional information, formatted in a table, on local goverment areas if necessary (https://en.wikipedia.org/wiki/List_of_Adelaide_suburbs).\nGPS coordinates for each suburb, found in the suburb boundaries link, will be used to identify common venues in each suburb using Foursquare API.\nThe five most common venues in each suburb will be used to provide some idea on what venues are more likely to do well in different suburbs.\n2019 data is being used as it is still too early into 2020 for Q1 data to be provided.\n\n### Data Cleaning\nData from the listed sources downloaded and viewed, whereupon some issues were found with both data sets. The first issue was with the median house price dataset. Unfortunately, due to the nature of how the data is collected, some suburbs recorded no house sales during 2019 Q4. Because of this, it was necessary to remove suburbs with no recorded house sales from the dataset. Pandas is able to read Excel files using the function read_excel, so despite the missing data, processing of the file wasn't too big of an issue. After dropping the columns containing 2018 data and rows with no 2019 data, a total of 354 suburbs. Rows were then sorted alphabetically by suburb and the index reset.\n\nThe second issue was the geojson file providing suburb boundaries. The geojson file provided by data.sa.gov not only provides Adelaide's suburb locations but all suburb locations within South Australia. This resulted in a file too big to be uploaded onto github. In addition Geojson files don't actually provide GPS coordinates for suburb centres but lists boundary coordinates of the suburbs in question instead. As a result, the dataset was eventually not used and a different dataset with exact GPS coordinates found (https://gist.github.com/randomecho/5020859). Uneeded columns were dropped, rows sorted alphabetically and the index reset.\n\nAfter cleaning up both datasets, they were then merged by suburb to match the corresponding latitude and longtitude coordinates to each suburb. The suburb coordinate were then passed through the Foursquare API in order to collect data on common venues in each suburb. After finding the most common venues in each suburb"
        },
        {
            "cell_type": "markdown",
            "metadata": {},
            "source": "## Methodology\n### K-Means Clustering\nK-Means clustering can be used to separate a dataset into groups or clusters of similar data points. K-Means clustering was used on the two created tables to identify suburbs with similar venue distribution and suburbs with similar median house price distribution. The reason for applying K-Means clustering to both tables separately was to visualise the resulting clusters individually and to see if the different tables displayed similar patterns in clustering. Similar clustering patterns between the two tables would indicate greater correlation between median house prices and popular venues while disimilar clustering patterns would indicate that the cost of housing may have little effect on popular venues in the same area."
        },
        {
            "cell_type": "markdown",
            "metadata": {},
            "source": "## Results\n"
        },
        {
            "cell_type": "markdown",
            "metadata": {},
            "source": "## Conclusion"
        },
        {
            "cell_type": "code",
            "execution_count": null,
            "metadata": {},
            "outputs": [],
            "source": ""
        }
    ],
    "metadata": {
        "kernelspec": {
            "display_name": "Python 3.6",
            "language": "python",
            "name": "python3"
        },
        "language_info": {
            "codemirror_mode": {
                "name": "ipython",
                "version": 3
            },
            "file_extension": ".py",
            "mimetype": "text/x-python",
            "name": "python",
            "nbconvert_exporter": "python",
            "pygments_lexer": "ipython3",
            "version": "3.6.9"
        }
    },
    "nbformat": 4,
    "nbformat_minor": 1
}