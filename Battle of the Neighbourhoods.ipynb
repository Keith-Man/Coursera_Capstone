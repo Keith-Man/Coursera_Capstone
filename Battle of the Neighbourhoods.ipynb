{
    "cells": [
        {
            "cell_type": "markdown",
            "metadata": {
                "collapsed": true
            },
            "source": "## Battle of the Neighbourhoods"
        },
        {
            "cell_type": "markdown",
            "metadata": {},
            "source": "# Effect of Median House Prices on Venue distribution in Adelaide"
        },
        {
            "cell_type": "markdown",
            "metadata": {},
            "source": "## Table of Contents\n1. Introduction\n2. Data\n3. Methodology\n4. Results\n5. Discussion\n6. Conclusion"
        },
        {
            "cell_type": "markdown",
            "metadata": {},
            "source": "## Introduction\n### Background\nAdelaide is the state capital of the Australian state of South Australia. \nIt has a decent suburban sprawl that ranges from old suburbs to new developments. \nLike with most cities, there is a wide variety of small businesses spread across the greater metropolitan area of Adealide.\nFor some people, starting up a small business and earning a stable income is a life goal after com\n\n### Problem\nFor people looking to start a business, it is important for them to know what businesses stand a better chance of doing well in different suburbs. Starting a business in a suburb that has no market for it can result in significant loss of invested time and resources. Because of this, it is useful to have some method to predict what businesses stand a higher chance of doing well.\nThere are many metrics that can be used to judge what business opportunities are more likely to succeed, but one of them is to look into the median house prices of different suburbs.\nMedian house prices can give some indication of the spending potential of people living in the area, which in turn affects the range of venues that are located in the area.\n\n### Interest\nPeople looking to start up a new small business would be interested in this information as it would provide them with a general overview of what venues are popular in their area, the likely customer base, and if they want to start a business that isn't so popular in their area, what areas are more likely to support that business and the approximate investment required to do so."
        },
        {
            "cell_type": "markdown",
            "metadata": {},
            "source": "## Data\n### Data Sources\nThe main sources of data for this investigation will be a csv document of metropolitan Adelaide median house prices from Q4 of 2019 provided by the South Australian Government's data database (https://data.sa.gov.au/data/dataset/metro-median-house-sales) and a list of Adelaide metropolitan suburbs and their local government area will be scraped from a geojson file provided from the same data database (https://data.sa.gov.au/data/dataset/suburb-boundaries) with Wikipedia's page on Adelaide suburbs used to provide additional information, formatted in a table, on local goverment areas if necessary (https://en.wikipedia.org/wiki/List_of_Adelaide_suburbs).\nGPS coordinates for each suburb, found in the suburb boundaries link, will be used to identify common venues in each suburb using Foursquare API.\nThe five most common venues in each suburb will be used to provide some idea on what venues are more likely to do well in different suburbs.\n2019 data is being used as it is still too early into 2020 for Q1 data to be provided.\n\n### Data Cleaning\nData from the listed sources downloaded and viewed, whereupon some issues were found with both data sets. The first issue was with the median house price dataset. Unfortunately, due to the nature of how the data is collected, some suburbs recorded no house sales during 2019 Q4. Because of this, it was necessary to remove suburbs with no recorded house sales from the dataset. Pandas is able to read Excel files using the function read_excel, so despite the missing data, processing of the file wasn't too big of an issue. After dropping the columns containing 2018 data and rows with no 2019 data, a total of 354 suburbs. Rows were then sorted alphabetically by suburb and the index reset.\n\nThe second issue was the geojson file providing suburb boundaries. The geojson file provided by data.sa.gov not only provides Adelaide's suburb locations but all suburb locations within South Australia. This resulted in a file too big to be uploaded onto github. In addition Geojson files don't actually provide GPS coordinates for suburb centres but lists boundary coordinates of the suburbs in question instead. As a result, the dataset was eventually not used and a different dataset with exact GPS coordinates found (https://gist.github.com/randomecho/5020859). Uneeded columns were dropped, rows sorted alphabetically and the index reset.\n\nAfter cleaning up both datasets, they were then merged by suburb to match the corresponding latitude and longtitude coordinates to each suburb. The suburb coordinate were then passed through the Foursquare API in order to collect data on common venues in each suburb. After finding the most common venues in each suburb the dataset was then split into two tables again for pre-processing with one table only having median house prices and the second only having venue data."
        },
        {
            "cell_type": "markdown",
            "metadata": {},
            "source": "## Methodology\n### K-Means Clustering\nK-Means clustering can be used to separate a dataset into groups or clusters of similar data points. K-Means clustering was used on the two created tables to identify suburbs with similar venue distribution and suburbs with similar median house price distribution. The reason for applying K-Means clustering to both tables separately was to visualise the resulting clusters individually and to see if the different tables displayed similar patterns in clustering. Similar clustering patterns between the two tables would indicate greater correlation between median house prices and popular venues while disimilar clustering patterns would indicate that the cost of housing may have little effect on popular venues in the same area.\n\n### Data Processing\nAfter pre-processing the data, K-Means clustering was run on the dataset with K=10 means. 10 means were chosen because it was found that running clustering with less means resulted in disimilar suburb grouping due to lack of means. Technically speaking, an even higher number of means would provide better clustering of suburbs, but increasing the number of clusters past 10 would begin to result in diminishing gains in terms of the amount of extra useful information that could be found."
        },
        {
            "attachments": {},
            "cell_type": "markdown",
            "metadata": {},
            "source": "## Results\nAfter running K=10 K-means clustering on the dataset, the following clustering characteristics were found.\n\n### Venue Clustering\nVenue cluster 0 comprised of 11 suburbs with wineries, playgrounds, Australian restaurants and zoos as the major venues.\n\nVenue cluster 1 comprised of 101 suburbs with a wide range of venues, although cafes were noted to be significantly more common than other venues.\n\nVenue cluster 2 comprised of 18 suburbs with parks, gardens, soccer fields, zoos, bus stations and Italian restaurants as the major venues.\n\nVenue cluster 3 comprised of 4 suburbs with fish & chips, food & drink shops and zoos being the major venues.\n\nVenue cluster 4 comprised of 58 suburbs with a higher number of Asian restaurants, shopping malls and fast food restaurants near them.\n\nVenue cluster 5 comprised of 3 suburbs with medical supply stores, zoos and Falafel restaurants as the major venues.\n\nVenue cluster 6 comprised of 4 suburbs with business services, food & drink shops and zoos being the major venues.\n\nVenue cluster 7 comprised of 8 suburbs with Vietnamese restaurants being the most common venue, followed by farms and zoos.\n\nVenue cluster 8 comprised of 116 suburbs with a wide variety of food shops and restaurants being quite common.\n\nVenue cluster 9 comprised of 8 suburbs with electronics stores, zoos and food & drink shops being the most common venues around them.\n\nOverall, geographical location did not appear to have any major effect on where different venues could be found, with most popular venues being spread out across metropolitan Adelaide.\n\n### House Price Clustering\nCluster 0 comprised of houses around the 700k to 800k price mark.\n\nCluster 1 comprised of houses around the 500k to 580k price mark.\n\nCluster 2 comprised of houses around the above 1.5 million price mark.\n\nCluster 3 comprised of houses around the 400k to 450k price mark.\n\nCluster 4 comprised of houses around the 1 million price mark.\n\nCluster 5 comprised of houses around the 1.1 million to 1.4 million price mark.\n\nCluster 6 comprised of houses around the 2 million price mark.\n\nCluster 7 comprised of houses around the 200k to 350k price mark.\n\nCluster 8 comprised of houses around the 800k to 900k price mark.\n\nCluster 9 comprised of houses around the 600k to 700k price mark.\n\nOverall, geographical location appeared to play a significant part on the clustering of house prices with houses further north and south being significantly cheaper than houses closer to the city. East and west suburbs did not appear to have the same price gradient as going further north or south."
        },
        {
            "cell_type": "markdown",
            "metadata": {},
            "source": "## Discussion\nBased on the data analyzed and clustering patterns of venues and house prices, several key points were found.\nA significant portion of suburbs in Adelaide appeared to have low total venue counts, with some suburbs only having 3-4 venues in the area.\nMost venues appear to be clustered around the more urban areas of Adelaide, especially the CBD.\nOverall, Adelaide has a relatively low unique venue count with only 165 unique venues recorded.\n\nVenue clustering tended to be more spread out with less clear geographical boundaries between clusters.\nHouse price clustering on the other hand displayed a clearer geographical clustering pattern with northern and southern suburbs being significantly cheaper than suburbs closer to the city center. This only appeared to affect distances to the north and south as eastern and western suburbs didn't display the same house price gradient.\n\nDue to the different clustering patterns of the two datasets, there doesn't appear to be any correlation between median house prices and common venues. "
        },
        {
            "cell_type": "markdown",
            "metadata": {},
            "source": "## Conclusion\nWhile there appears to be noticeable groupings of suburbs by venues and house prices, these two forms of clustering appear to have little noticeable commonality between them.\nHouse pricing appears to have a noticeable geographical pattern, but the lack of a similar pattern with venue clustering makes it difficult to draw any conclusions regarding the effect of house prices on venue popularity.\nFrom the results of this investigation, it does not appear that house pricing has any effect on the type of venues that appear within a suburb. However, more research will be required to judge if house prices have no effect on common venues or if it just has a minimal effect compared to other factors."
        },
        {
            "cell_type": "code",
            "execution_count": null,
            "metadata": {},
            "outputs": [],
            "source": ""
        }
    ],
    "metadata": {
        "kernelspec": {
            "display_name": "Python 3.6",
            "language": "python",
            "name": "python3"
        },
        "language_info": {
            "codemirror_mode": {
                "name": "ipython",
                "version": 3
            },
            "file_extension": ".py",
            "mimetype": "text/x-python",
            "name": "python",
            "nbconvert_exporter": "python",
            "pygments_lexer": "ipython3",
            "version": "3.6.9"
        }
    },
    "nbformat": 4,
    "nbformat_minor": 1
}