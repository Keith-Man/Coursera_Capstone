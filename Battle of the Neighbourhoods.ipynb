{
    "cells": [
        {
            "cell_type": "markdown",
            "metadata": {
                "collapsed": true
            },
            "source": "## Battle of the Neighbourhoods"
        },
        {
            "cell_type": "markdown",
            "metadata": {},
            "source": "# Effect of Median House Prices on Venue distribution in Adelaide"
        },
        {
            "cell_type": "markdown",
            "metadata": {},
            "source": "## Table of Contents\n1. Introduction\n2. Data"
        },
        {
            "cell_type": "markdown",
            "metadata": {},
            "source": "## Introduction\nAdelaide is the state capital of the Australian state of South Australia. \nIt has a decent suburban sprawl that ranges from old suburbs to new developments. \nFor people looking to start a business, it is important for them to know what businesses stand a better chance of doing well in different suburbs. Starting a business in a suburb that has no market for it can result in significant loss of invested time and resources. Because of this, it is useful to have some method to predict what businesses stand a higher chance of doing well.\nThere are many metrics that can be used to judge what business opportunities are more likely to succeed, but one of them is to look into the median house prices of different suburbs.\nMedian house prices can give some indication of the spending potential of people living in the area, which in turn affects the range of venues that are located in the area.\nThe goal of this investigation is to find out if median house prices do have a noticable effect on the venue distribution of suburbs and, if so, what businesses are more likely to do well in less expensive suburbs and more expensive suburbs."
        },
        {
            "attachments": {},
            "cell_type": "markdown",
            "metadata": {},
            "source": "## Data\nThe main sources of data for this investigation will be metropolitan Adelaide median house prices from Q4 of 2019 provided by the South Australian Government's data database (https://data.sa.gov.au/data/dataset/metro-median-house-sales).\nA list of Adelaide metropolitan suburbs and their local government area will be scraped from the same data database (https://data.sa.gov.au/data/dataset/suburb-boundaries) with Wikipedia's page on Adelaide suburbs used to provide additional (https://en.wikipedia.org/wiki/List_of_Adelaide_suburbs).\n"
        }
    ],
    "metadata": {
        "kernelspec": {
            "display_name": "Python 3.6",
            "language": "python",
            "name": "python3"
        },
        "language_info": {
            "codemirror_mode": {
                "name": "ipython",
                "version": 3
            },
            "file_extension": ".py",
            "mimetype": "text/x-python",
            "name": "python",
            "nbconvert_exporter": "python",
            "pygments_lexer": "ipython3",
            "version": "3.6.9"
        }
    },
    "nbformat": 4,
    "nbformat_minor": 1
}