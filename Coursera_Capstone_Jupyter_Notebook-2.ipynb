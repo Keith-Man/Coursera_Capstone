{
    "cells": [
        {
            "cell_type": "markdown",
            "metadata": {
                "collapsed": true
            },
            "source": "# Coursera Capstone Project Notebook"
        },
        {
            "cell_type": "markdown",
            "metadata": {},
            "source": "### This is a Jupyter Notebook for the Coursera Capstone Project."
        },
        {
            "cell_type": "code",
            "execution_count": 5,
            "metadata": {},
            "outputs": [],
            "source": "import pandas as pd\nimport numpy as np"
        },
        {
            "cell_type": "code",
            "execution_count": 79,
            "metadata": {
                "scrolled": true
            },
            "outputs": [
                {
                    "name": "stdout",
                    "output_type": "stream",
                    "text": "Hello Capstone Project Course!\n"
                }
            ],
            "source": "print(\"Hello Capstone Project Course!\")"
        },
        {
            "cell_type": "markdown",
            "metadata": {},
            "source": "### Import requests, BeautifulSoup and geocoder."
        },
        {
            "cell_type": "code",
            "execution_count": 1,
            "metadata": {},
            "outputs": [],
            "source": "import requests\nfrom bs4 import BeautifulSoup"
        },
        {
            "cell_type": "markdown",
            "metadata": {},
            "source": "### Set up URL, loop counter and column array variables."
        },
        {
            "cell_type": "code",
            "execution_count": 2,
            "metadata": {},
            "outputs": [],
            "source": "URL = \"https://en.wikipedia.org/wiki/List_of_postal_codes_of_Canada:_M\"\n\ni = 0\npostcode = []\nborough = []\nneighbourhood = []"
        },
        {
            "cell_type": "markdown",
            "metadata": {},
            "source": "### Loop through wikipedia table and scrape values. Replace 'Not assigned' neighbourhoods with Borough and merge neighbourhoods under the same postal code."
        },
        {
            "cell_type": "code",
            "execution_count": 3,
            "metadata": {},
            "outputs": [],
            "source": "res = requests.get(URL).text\nsoup = BeautifulSoup(res,'lxml')\nfor items in soup.find('table', class_='wikitable').find_all('tr')[1::1]:\n    lat_lng_coords = None\n    data = items.find_all(['th','td'])\n    try:\n        if i > 0:\n            if data[0].text == postcode[i-1]:\n                neighbourhood[i-1] += ','\n                neighbourhood[i-1] += data[2].text.strip()\n            elif data[2].text.strip() == 'Not assigned':\n                postcode += [data[0].text]\n                borough += [data[1].text]\n                neighbourhood += [data[1].text]\n                i+=1\n            else:\n                postcode += [data[0].text]\n                borough += [data[1].text]\n                neighbourhood += [data[2].text.strip()]\n                i+=1\n        else:\n            postcode += [data[0].text]\n            borough += [data[1].text]\n            neighbourhood += [data[2].text.strip()]\n            i+=1\n    except IndexError:pass"
        },
        {
            "cell_type": "markdown",
            "metadata": {},
            "source": "### Load GPS coordinates from CSV file"
        },
        {
            "cell_type": "code",
            "execution_count": 12,
            "metadata": {},
            "outputs": [
                {
                    "data": {
                        "text/html": "<div>\n<style scoped>\n    .dataframe tbody tr th:only-of-type {\n        vertical-align: middle;\n    }\n\n    .dataframe tbody tr th {\n        vertical-align: top;\n    }\n\n    .dataframe thead th {\n        text-align: right;\n    }\n</style>\n<table border=\"1\" class=\"dataframe\">\n  <thead>\n    <tr style=\"text-align: right;\">\n      <th></th>\n      <th>Postal Code</th>\n      <th>Latitude</th>\n      <th>Longitude</th>\n    </tr>\n  </thead>\n  <tbody>\n    <tr>\n      <th>0</th>\n      <td>M1B</td>\n      <td>43.806686</td>\n      <td>-79.194353</td>\n    </tr>\n    <tr>\n      <th>1</th>\n      <td>M1C</td>\n      <td>43.784535</td>\n      <td>-79.160497</td>\n    </tr>\n    <tr>\n      <th>2</th>\n      <td>M1E</td>\n      <td>43.763573</td>\n      <td>-79.188711</td>\n    </tr>\n    <tr>\n      <th>3</th>\n      <td>M1G</td>\n      <td>43.770992</td>\n      <td>-79.216917</td>\n    </tr>\n    <tr>\n      <th>4</th>\n      <td>M1H</td>\n      <td>43.773136</td>\n      <td>-79.239476</td>\n    </tr>\n  </tbody>\n</table>\n</div>",
                        "text/plain": "  Postal Code   Latitude  Longitude\n0         M1B  43.806686 -79.194353\n1         M1C  43.784535 -79.160497\n2         M1E  43.763573 -79.188711\n3         M1G  43.770992 -79.216917\n4         M1H  43.773136 -79.239476"
                    },
                    "execution_count": 12,
                    "metadata": {},
                    "output_type": "execute_result"
                }
            ],
            "source": "geo = pd.read_csv('https://cocl.us/Geospatial_data')\ngeo.head()"
        },
        {
            "cell_type": "markdown",
            "metadata": {},
            "source": "### Drop rows with 'Not assigned' borough and reset index. Merge with GPS coordinates."
        },
        {
            "cell_type": "code",
            "execution_count": 16,
            "metadata": {},
            "outputs": [
                {
                    "data": {
                        "text/html": "<div>\n<style scoped>\n    .dataframe tbody tr th:only-of-type {\n        vertical-align: middle;\n    }\n\n    .dataframe tbody tr th {\n        vertical-align: top;\n    }\n\n    .dataframe thead th {\n        text-align: right;\n    }\n</style>\n<table border=\"1\" class=\"dataframe\">\n  <thead>\n    <tr style=\"text-align: right;\">\n      <th></th>\n      <th>Postal Code</th>\n      <th>Borough</th>\n      <th>Neighbourhood</th>\n      <th>Latitude</th>\n      <th>Longitude</th>\n    </tr>\n  </thead>\n  <tbody>\n    <tr>\n      <th>0</th>\n      <td>M1B</td>\n      <td>Scarborough</td>\n      <td>Rouge,Malvern</td>\n      <td>43.806686</td>\n      <td>-79.194353</td>\n    </tr>\n    <tr>\n      <th>1</th>\n      <td>M1C</td>\n      <td>Scarborough</td>\n      <td>Highland Creek,Rouge Hill,Port Union</td>\n      <td>43.784535</td>\n      <td>-79.160497</td>\n    </tr>\n    <tr>\n      <th>2</th>\n      <td>M1E</td>\n      <td>Scarborough</td>\n      <td>Guildwood,Morningside,West Hill</td>\n      <td>43.763573</td>\n      <td>-79.188711</td>\n    </tr>\n    <tr>\n      <th>3</th>\n      <td>M1G</td>\n      <td>Scarborough</td>\n      <td>Woburn</td>\n      <td>43.770992</td>\n      <td>-79.216917</td>\n    </tr>\n    <tr>\n      <th>4</th>\n      <td>M1H</td>\n      <td>Scarborough</td>\n      <td>Cedarbrae</td>\n      <td>43.773136</td>\n      <td>-79.239476</td>\n    </tr>\n    <tr>\n      <th>5</th>\n      <td>M1J</td>\n      <td>Scarborough</td>\n      <td>Scarborough Village</td>\n      <td>43.744734</td>\n      <td>-79.239476</td>\n    </tr>\n    <tr>\n      <th>6</th>\n      <td>M1K</td>\n      <td>Scarborough</td>\n      <td>East Birchmount Park,Ionview,Kennedy Park</td>\n      <td>43.727929</td>\n      <td>-79.262029</td>\n    </tr>\n    <tr>\n      <th>7</th>\n      <td>M1L</td>\n      <td>Scarborough</td>\n      <td>Clairlea,Golden Mile,Oakridge</td>\n      <td>43.711112</td>\n      <td>-79.284577</td>\n    </tr>\n    <tr>\n      <th>8</th>\n      <td>M1M</td>\n      <td>Scarborough</td>\n      <td>Cliffcrest,Cliffside,Scarborough Village West</td>\n      <td>43.716316</td>\n      <td>-79.239476</td>\n    </tr>\n    <tr>\n      <th>9</th>\n      <td>M1N</td>\n      <td>Scarborough</td>\n      <td>Birch Cliff,Cliffside West</td>\n      <td>43.692657</td>\n      <td>-79.264848</td>\n    </tr>\n  </tbody>\n</table>\n</div>",
                        "text/plain": "  Postal Code      Borough                                  Neighbourhood  \\\n0         M1B  Scarborough                                  Rouge,Malvern   \n1         M1C  Scarborough           Highland Creek,Rouge Hill,Port Union   \n2         M1E  Scarborough                Guildwood,Morningside,West Hill   \n3         M1G  Scarborough                                         Woburn   \n4         M1H  Scarborough                                      Cedarbrae   \n5         M1J  Scarborough                            Scarborough Village   \n6         M1K  Scarborough      East Birchmount Park,Ionview,Kennedy Park   \n7         M1L  Scarborough                  Clairlea,Golden Mile,Oakridge   \n8         M1M  Scarborough  Cliffcrest,Cliffside,Scarborough Village West   \n9         M1N  Scarborough                     Birch Cliff,Cliffside West   \n\n    Latitude  Longitude  \n0  43.806686 -79.194353  \n1  43.784535 -79.160497  \n2  43.763573 -79.188711  \n3  43.770992 -79.216917  \n4  43.773136 -79.239476  \n5  43.744734 -79.239476  \n6  43.727929 -79.262029  \n7  43.711112 -79.284577  \n8  43.716316 -79.239476  \n9  43.692657 -79.264848  "
                    },
                    "execution_count": 16,
                    "metadata": {},
                    "output_type": "execute_result"
                }
            ],
            "source": "d = {'Postal Code':postcode,'Borough':borough, 'Neighbourhood':neighbourhood}\ndf = pd.DataFrame(d)\ndf = df[df.Borough != 'Not assigned']\ndf = df.reset_index()\ndf = df.drop(['index'], axis=1)\ndf = df.sort_values(by=['Postal Code'])\ndf = pd.merge(df, geo[['Postal Code', 'Latitude', 'Longitude']], on='Postal Code')\ndf.head(10)"
        },
        {
            "cell_type": "code",
            "execution_count": 7,
            "metadata": {},
            "outputs": [
                {
                    "data": {
                        "text/plain": "(103, 3)"
                    },
                    "execution_count": 7,
                    "metadata": {},
                    "output_type": "execute_result"
                }
            ],
            "source": "df.shape"
        },
        {
            "cell_type": "code",
            "execution_count": null,
            "metadata": {},
            "outputs": [],
            "source": ""
        }
    ],
    "metadata": {
        "kernelspec": {
            "display_name": "Python 3.6",
            "language": "python",
            "name": "python3"
        },
        "language_info": {
            "codemirror_mode": {
                "name": "ipython",
                "version": 3
            },
            "file_extension": ".py",
            "mimetype": "text/x-python",
            "name": "python",
            "nbconvert_exporter": "python",
            "pygments_lexer": "ipython3",
            "version": "3.6.9"
        }
    },
    "nbformat": 4,
    "nbformat_minor": 1
}